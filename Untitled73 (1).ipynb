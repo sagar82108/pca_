{
 "cells": [
  {
   "cell_type": "code",
   "execution_count": null,
   "id": "c31bd0aa-f4fb-4c56-8cc3-e175fce1801d",
   "metadata": {},
   "outputs": [],
   "source": [
    "Q1. In the context of PCA (Principal Component Analysis), a projection is a\n",
    "transformation of data onto a lower-dimensional subspace.\n",
    "It's used to reduce the dimensionality of the data while \n",
    "preserving the maximum variance.\n",
    "\n",
    "Q2. The optimization problem in PCA aims to find the principal components \n",
    "(eigenvectors) of the covariance matrix of the data. \n",
    "It seeks to maximize the variance along each principal \n",
    "component while ensuring orthogonality between them.\n",
    "\n",
    "Q3. The covariance matrices are used in PCA to compute the eigenvalues and \n",
    "eigenvectors, which represent the principal components. \n",
    "The eigenvectors of the covariance matrix determine the directions (components),\n",
    "and the corresponding eigenvalues represent the amount of variance explained by each component.\n",
    "\n",
    "Q4. The choice of the number of principal components impacts the trade-off between dimensionality \n",
    "reduction and information retention. More components retain more information but may introduce noise. \n",
    "Fewer components reduce dimensionality but may lose important information.\n",
    "\n",
    "Q5. PCA can be used in feature selection by selecting a subset of the principal components\n",
    "that capture most of the data's variance. This reduces the number of features while preserving\n",
    "the essential information, helping to simplify models and reduce overfitting.\n",
    "\n",
    "Q6. Common applications of PCA in data science and machine learning include dimensionality reduction,\n",
    "noise reduction, visualization, feature extraction, and data preprocessing for tasks like clustering and classification.\n",
    "\n",
    "Q7. Spread and variance are related in PCA. Variance measures the spread of \n",
    "data along a particular principal component. \n",
    "Principal components are ranked by the amount of variance they explain, \n",
    "with the first component explaining the most variance.\n",
    "\n",
    "Q8. PCA identifies principal components by finding the eigenvectors of the covariance matrix. \n",
    "The eigenvectors represent the directions of maximum spread (variance) in the data, and \n",
    "the corresponding eigenvalues indicate the amount of spread along those directions.\n",
    "\n",
    "Q9. PCA handles data with high variance in some dimensions by identifying \n",
    "those dimensions as principal components,\n",
    "while dimensions with low variance are considered less important.\n",
    "This allows PCA to focus on the directions of maximum spread, reducing the impact of \n",
    "dimensions with low variance on the principal components."
   ]
  }
 ],
 "metadata": {
  "kernelspec": {
   "display_name": "Python 3 (ipykernel)",
   "language": "python",
   "name": "python3"
  },
  "language_info": {
   "codemirror_mode": {
    "name": "ipython",
    "version": 3
   },
   "file_extension": ".py",
   "mimetype": "text/x-python",
   "name": "python",
   "nbconvert_exporter": "python",
   "pygments_lexer": "ipython3",
   "version": "3.10.8"
  }
 },
 "nbformat": 4,
 "nbformat_minor": 5
}
